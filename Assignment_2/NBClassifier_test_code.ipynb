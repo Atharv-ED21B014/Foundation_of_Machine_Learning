{
 "cells": [
  {
   "cell_type": "code",
   "execution_count": 2,
   "id": "f509cda6",
   "metadata": {},
   "outputs": [
    {
     "name": "stdout",
     "output_type": "stream",
     "text": [
      "{'ham (1).txt': 0, 'ham (10).txt': 0, 'ham (100).txt': 1, 'ham (101).txt': 0, 'ham (102).txt': 0, 'ham (103).txt': 0, 'ham (104).txt': 1, 'ham (105).txt': 1, 'ham (106).txt': 0, 'ham (107).txt': 1, 'ham (108).txt': 1, 'ham (109).txt': 0, 'ham (11).txt': 0, 'ham (110).txt': 0, 'ham (111).txt': 0, 'ham (112).txt': 0, 'ham (113).txt': 0, 'ham (114).txt': 0, 'ham (115).txt': 0, 'ham (116).txt': 0, 'ham (117).txt': 0, 'ham (118).txt': 0, 'ham (119).txt': 0, 'ham (12).txt': 0, 'ham (120).txt': 0, 'ham (121).txt': 0, 'ham (122).txt': 0, 'ham (123).txt': 0, 'ham (124).txt': 0, 'ham (125).txt': 0, 'ham (126).txt': 0, 'ham (127).txt': 0, 'ham (128).txt': 0, 'ham (129).txt': 0, 'ham (13).txt': 0, 'ham (130).txt': 0, 'ham (131).txt': 0, 'ham (132).txt': 0, 'ham (133).txt': 0, 'ham (134).txt': 0, 'ham (135).txt': 0, 'ham (136).txt': 0, 'ham (137).txt': 0, 'ham (138).txt': 0, 'ham (139).txt': 0, 'ham (14).txt': 0, 'ham (140).txt': 0, 'ham (141).txt': 0, 'ham (142).txt': 0, 'ham (143).txt': 0, 'ham (144).txt': 0, 'ham (145).txt': 0, 'ham (146).txt': 0, 'ham (147).txt': 0, 'ham (148).txt': 0, 'ham (149).txt': 0, 'ham (15).txt': 0, 'ham (150).txt': 0, 'ham (151).txt': 0, 'ham (152).txt': 0, 'ham (153).txt': 0, 'ham (154).txt': 0, 'ham (155).txt': 0, 'ham (156).txt': 0, 'ham (157).txt': 0, 'ham (158).txt': 0, 'ham (159).txt': 0, 'ham (16).txt': 0, 'ham (160).txt': 0, 'ham (161).txt': 0, 'ham (162).txt': 0, 'ham (163).txt': 0, 'ham (164).txt': 0, 'ham (165).txt': 0, 'ham (166).txt': 0, 'ham (167).txt': 0, 'ham (168).txt': 0, 'ham (169).txt': 0, 'ham (17).txt': 0, 'ham (170).txt': 0, 'ham (171).txt': 0, 'ham (172).txt': 0, 'ham (173).txt': 0, 'ham (174).txt': 0, 'ham (175).txt': 0, 'ham (176).txt': 0, 'ham (177).txt': 0, 'ham (178).txt': 0, 'ham (179).txt': 0, 'ham (18).txt': 0, 'ham (180).txt': 0, 'ham (181).txt': 0, 'ham (182).txt': 0, 'ham (183).txt': 0, 'ham (184).txt': 0, 'ham (185).txt': 0, 'ham (186).txt': 0, 'ham (187).txt': 0, 'ham (188).txt': 0, 'ham (189).txt': 0, 'ham (19).txt': 0, 'ham (190).txt': 0, 'ham (191).txt': 0, 'ham (192).txt': 0, 'ham (193).txt': 0, 'ham (194).txt': 0, 'ham (195).txt': 0, 'ham (196).txt': 0, 'ham (197).txt': 0, 'ham (198).txt': 0, 'ham (199).txt': 0, 'ham (2).txt': 0, 'ham (20).txt': 0, 'ham (200).txt': 0, 'ham (201).txt': 0, 'ham (202).txt': 0, 'ham (203).txt': 0, 'ham (204).txt': 0, 'ham (205).txt': 0, 'ham (206).txt': 0, 'ham (207).txt': 0, 'ham (208).txt': 0, 'ham (209).txt': 0, 'ham (21).txt': 0, 'ham (210).txt': 0, 'ham (211).txt': 0, 'ham (212).txt': 0, 'ham (213).txt': 0, 'ham (214).txt': 0, 'ham (215).txt': 0, 'ham (216).txt': 0, 'ham (217).txt': 0, 'ham (218).txt': 0, 'ham (219).txt': 0, 'ham (22).txt': 0, 'ham (220).txt': 0, 'ham (221).txt': 0, 'ham (222).txt': 0, 'ham (223).txt': 0, 'ham (224).txt': 0, 'ham (225).txt': 0, 'ham (226).txt': 0, 'ham (227).txt': 0, 'ham (228).txt': 0, 'ham (229).txt': 0, 'ham (23).txt': 0, 'ham (230).txt': 0, 'ham (231).txt': 0, 'ham (232).txt': 0, 'ham (233).txt': 0, 'ham (234).txt': 0, 'ham (235).txt': 0, 'ham (236).txt': 0, 'ham (237).txt': 0, 'ham (238).txt': 0, 'ham (239).txt': 0, 'ham (24).txt': 0, 'ham (240).txt': 0, 'ham (241).txt': 0, 'ham (242).txt': 0, 'ham (243).txt': 0, 'ham (244).txt': 0, 'ham (245).txt': 0, 'ham (246).txt': 0, 'ham (247).txt': 0, 'ham (248).txt': 0, 'ham (249).txt': 0, 'ham (25).txt': 0, 'ham (250).txt': 0, 'ham (26).txt': 0, 'ham (27).txt': 0, 'ham (28).txt': 0, 'ham (29).txt': 0, 'ham (3).txt': 0, 'ham (30).txt': 0, 'ham (31).txt': 0, 'ham (32).txt': 0, 'ham (33).txt': 0, 'ham (34).txt': 0, 'ham (35).txt': 0, 'ham (36).txt': 0, 'ham (37).txt': 0, 'ham (38).txt': 0, 'ham (39).txt': 0, 'ham (4).txt': 0, 'ham (40).txt': 0, 'ham (41).txt': 0, 'ham (42).txt': 0, 'ham (43).txt': 0, 'ham (44).txt': 0, 'ham (45).txt': 0, 'ham (46).txt': 0, 'ham (47).txt': 0, 'ham (48).txt': 0, 'ham (49).txt': 0, 'ham (5).txt': 0, 'ham (50).txt': 0, 'ham (51).txt': 0, 'ham (52).txt': 0, 'ham (53).txt': 0, 'ham (54).txt': 0, 'ham (55).txt': 0, 'ham (56).txt': 0, 'ham (57).txt': 0, 'ham (58).txt': 0, 'ham (59).txt': 0, 'ham (6).txt': 0, 'ham (60).txt': 0, 'ham (61).txt': 0, 'ham (62).txt': 0, 'ham (63).txt': 1, 'ham (64).txt': 0, 'ham (65).txt': 0, 'ham (66).txt': 0, 'ham (67).txt': 0, 'ham (68).txt': 0, 'ham (69).txt': 0, 'ham (7).txt': 0, 'ham (70).txt': 0, 'ham (71).txt': 0, 'ham (72).txt': 0, 'ham (73).txt': 0, 'ham (74).txt': 0, 'ham (75).txt': 0, 'ham (76).txt': 0, 'ham (77).txt': 0, 'ham (78).txt': 0, 'ham (79).txt': 0, 'ham (8).txt': 0, 'ham (80).txt': 0, 'ham (81).txt': 0, 'ham (82).txt': 0, 'ham (83).txt': 0, 'ham (84).txt': 0, 'ham (85).txt': 1, 'ham (86).txt': 1, 'ham (87).txt': 0, 'ham (88).txt': 0, 'ham (89).txt': 0, 'ham (9).txt': 0, 'ham (90).txt': 0, 'ham (91).txt': 0, 'ham (92).txt': 0, 'ham (93).txt': 0, 'ham (94).txt': 0, 'ham (95).txt': 0, 'ham (96).txt': 1, 'ham (97).txt': 1, 'ham (98).txt': 0, 'ham (99).txt': 0, 'spam (1).txt': 1, 'spam (10).txt': 1, 'spam (100).txt': 1, 'spam (101).txt': 1, 'spam (102).txt': 1, 'spam (103).txt': 1, 'spam (104).txt': 1, 'spam (105).txt': 1, 'spam (106).txt': 1, 'spam (107).txt': 1, 'spam (108).txt': 1, 'spam (109).txt': 1, 'spam (11).txt': 1, 'spam (110).txt': 1, 'spam (111).txt': 1, 'spam (112).txt': 1, 'spam (113).txt': 1, 'spam (114).txt': 1, 'spam (115).txt': 1, 'spam (116).txt': 1, 'spam (117).txt': 1, 'spam (118).txt': 1, 'spam (119).txt': 1, 'spam (12).txt': 1, 'spam (120).txt': 1, 'spam (121).txt': 1, 'spam (122).txt': 1, 'spam (123).txt': 1, 'spam (124).txt': 1, 'spam (125).txt': 1, 'spam (126).txt': 1, 'spam (127).txt': 1, 'spam (128).txt': 1, 'spam (129).txt': 1, 'spam (13).txt': 1, 'spam (130).txt': 1, 'spam (131).txt': 1, 'spam (132).txt': 1, 'spam (133).txt': 1, 'spam (134).txt': 1, 'spam (135).txt': 1, 'spam (136).txt': 1, 'spam (137).txt': 1, 'spam (138).txt': 1, 'spam (139).txt': 1, 'spam (14).txt': 1, 'spam (140).txt': 1, 'spam (141).txt': 1, 'spam (142).txt': 1, 'spam (143).txt': 1, 'spam (144).txt': 1, 'spam (145).txt': 1, 'spam (146).txt': 1, 'spam (147).txt': 1, 'spam (148).txt': 1, 'spam (149).txt': 1, 'spam (15).txt': 1, 'spam (150).txt': 1, 'spam (151).txt': 1, 'spam (152).txt': 1, 'spam (153).txt': 1, 'spam (154).txt': 1, 'spam (155).txt': 1, 'spam (156).txt': 1, 'spam (157).txt': 1, 'spam (158).txt': 1, 'spam (159).txt': 1, 'spam (16).txt': 1, 'spam (160).txt': 1, 'spam (161).txt': 1, 'spam (162).txt': 1, 'spam (163).txt': 1, 'spam (164).txt': 1, 'spam (165).txt': 1, 'spam (166).txt': 1, 'spam (167).txt': 1, 'spam (168).txt': 1, 'spam (169).txt': 1, 'spam (17).txt': 1, 'spam (170).txt': 1, 'spam (171).txt': 1, 'spam (172).txt': 1, 'spam (173).txt': 1, 'spam (174).txt': 1, 'spam (175).txt': 1, 'spam (176).txt': 1, 'spam (177).txt': 1, 'spam (178).txt': 1, 'spam (179).txt': 1, 'spam (18).txt': 1, 'spam (180).txt': 1, 'spam (181).txt': 0, 'spam (182).txt': 1, 'spam (183).txt': 1, 'spam (184).txt': 1, 'spam (185).txt': 1, 'spam (186).txt': 1, 'spam (187).txt': 1, 'spam (188).txt': 1, 'spam (189).txt': 1, 'spam (19).txt': 1, 'spam (190).txt': 1, 'spam (191).txt': 1, 'spam (192).txt': 1, 'spam (193).txt': 1, 'spam (194).txt': 1, 'spam (195).txt': 1, 'spam (196).txt': 1, 'spam (197).txt': 1, 'spam (198).txt': 1, 'spam (199).txt': 1, 'spam (2).txt': 1, 'spam (20).txt': 1, 'spam (200).txt': 1, 'spam (201).txt': 1, 'spam (202).txt': 1, 'spam (203).txt': 1, 'spam (204).txt': 1, 'spam (205).txt': 1, 'spam (206).txt': 1, 'spam (207).txt': 1, 'spam (208).txt': 1, 'spam (209).txt': 1, 'spam (21).txt': 1, 'spam (210).txt': 1, 'spam (211).txt': 1, 'spam (212).txt': 1, 'spam (213).txt': 1, 'spam (214).txt': 1, 'spam (215).txt': 1, 'spam (216).txt': 1, 'spam (217).txt': 1, 'spam (218).txt': 1, 'spam (219).txt': 1, 'spam (22).txt': 1, 'spam (220).txt': 1, 'spam (221).txt': 1, 'spam (222).txt': 1, 'spam (223).txt': 1, 'spam (224).txt': 1, 'spam (225).txt': 1, 'spam (226).txt': 1, 'spam (227).txt': 1, 'spam (228).txt': 1, 'spam (229).txt': 1, 'spam (23).txt': 1, 'spam (230).txt': 1, 'spam (231).txt': 1, 'spam (232).txt': 1, 'spam (233).txt': 1, 'spam (234).txt': 1, 'spam (235).txt': 1, 'spam (236).txt': 1, 'spam (237).txt': 1, 'spam (238).txt': 1, 'spam (239).txt': 1, 'spam (24).txt': 1, 'spam (240).txt': 1, 'spam (241).txt': 1, 'spam (242).txt': 1, 'spam (243).txt': 1, 'spam (244).txt': 1, 'spam (245).txt': 1, 'spam (246).txt': 1, 'spam (247).txt': 1, 'spam (248).txt': 1, 'spam (249).txt': 1, 'spam (25).txt': 1, 'spam (250).txt': 1, 'spam (26).txt': 1, 'spam (27).txt': 1, 'spam (28).txt': 1, 'spam (29).txt': 1, 'spam (3).txt': 1, 'spam (30).txt': 1, 'spam (31).txt': 1, 'spam (32).txt': 1, 'spam (33).txt': 1, 'spam (34).txt': 1, 'spam (35).txt': 1, 'spam (36).txt': 1, 'spam (37).txt': 1, 'spam (38).txt': 1, 'spam (39).txt': 1, 'spam (4).txt': 1, 'spam (40).txt': 1, 'spam (41).txt': 1, 'spam (42).txt': 1, 'spam (43).txt': 1, 'spam (44).txt': 1, 'spam (45).txt': 1, 'spam (46).txt': 1, 'spam (47).txt': 1, 'spam (48).txt': 1, 'spam (49).txt': 1, 'spam (5).txt': 1, 'spam (50).txt': 1, 'spam (51).txt': 1, 'spam (52).txt': 1, 'spam (53).txt': 1, 'spam (54).txt': 1, 'spam (55).txt': 1, 'spam (56).txt': 1, 'spam (57).txt': 1, 'spam (58).txt': 1, 'spam (59).txt': 1, 'spam (6).txt': 1, 'spam (60).txt': 1, 'spam (61).txt': 1, 'spam (62).txt': 1, 'spam (63).txt': 1, 'spam (64).txt': 1, 'spam (65).txt': 1, 'spam (66).txt': 1, 'spam (67).txt': 1, 'spam (68).txt': 1, 'spam (69).txt': 1, 'spam (7).txt': 1, 'spam (70).txt': 1, 'spam (71).txt': 1, 'spam (72).txt': 1, 'spam (73).txt': 1, 'spam (74).txt': 1, 'spam (75).txt': 1, 'spam (76).txt': 1, 'spam (77).txt': 1, 'spam (78).txt': 1, 'spam (79).txt': 1, 'spam (8).txt': 1, 'spam (80).txt': 1, 'spam (81).txt': 1, 'spam (82).txt': 1, 'spam (83).txt': 1, 'spam (84).txt': 1, 'spam (85).txt': 1, 'spam (86).txt': 1, 'spam (87).txt': 1, 'spam (88).txt': 1, 'spam (89).txt': 1, 'spam (9).txt': 1, 'spam (90).txt': 1, 'spam (91).txt': 1, 'spam (92).txt': 1, 'spam (93).txt': 1, 'spam (94).txt': 1, 'spam (95).txt': 1, 'spam (96).txt': 1, 'spam (97).txt': 1, 'spam (98).txt': 1, 'spam (99).txt': 1}\n"
     ]
    }
   ],
   "source": [
    "import numpy as np\n",
    "import pandas as pd\n",
    "import os\n",
    "\n",
    "# Load data\n",
    "data = pd.read_csv('emails.csv')\n",
    "train_data = data\n",
    "train_label=train_data['Prediction']\n",
    "# Calculate class probabilities\n",
    "prob_spam = train_data['Prediction'].value_counts()[1] / train_data.shape[0]\n",
    "prob_ham = train_data['Prediction'].value_counts()[0] / train_data.shape[0]\n",
    "\n",
    "\n",
    "# Separate spam and ham data for probability calculations\n",
    "spam_data = train_data[train_data['Prediction'] == 1]\n",
    "ham_data = train_data[train_data['Prediction'] == 0]\n",
    "spam_data.drop(columns=['Prediction','Email No.'])\n",
    "ham_data.drop(columns=['Prediction','Email No.'])\n",
    "vocab_size = len(train_data.columns)  # Assuming 'Prediction' and an ID column\n",
    "\n",
    "# Initialize word counts with Laplace smoothing\n",
    "alpha =1\n",
    "word_counts_spam = np.ones(vocab_size) * alpha\n",
    "word_counts_ham = np.ones(vocab_size) * alpha\n",
    "\n",
    "# Calculate conditional probabilities\n",
    "word_counts_spam = np.ones(vocab_size) * alpha  # Laplace smoothing\n",
    "word_counts_ham = np.ones(vocab_size) * alpha  # Laplace smoothing\n",
    "#add one more row in spam and ham data\n",
    "#word_count_spam & ham as the new mail\n",
    "\n",
    "spam_data=pd.concat([spam_data,pd.DataFrame([word_counts_spam],columns=spam_data.columns)])\n",
    "ham_data=pd.concat([ham_data,pd.DataFrame([word_counts_ham],columns=ham_data.columns)])\n",
    "ham_data=ham_data.reset_index(drop=True)\n",
    "spam_data=spam_data.reset_index(drop=True)\n",
    "\n",
    "  #p_words_spam.append((spam_data.iloc[:,i].sum())/(spam_data.sum()))\n",
    "spam_data=spam_data.drop(columns=['Prediction','Email No.'])\n",
    "ham_data=ham_data.drop(columns=['Prediction','Email No.'])\n",
    "p_words_spam=((spam_data.sum())/(spam_data.values.sum()))\n",
    "p_words_ham=((ham_data.sum())/(ham_data.values.sum()))\n",
    "q_words_spam=1-p_words_spam\n",
    "q_words_ham=1-p_words_ham\n",
    "log_p_words_spam=np.log(p_words_spam)\n",
    "log_p_words_ham=np.log(p_words_ham)\n",
    "log_q_words_spam=np.log(q_words_spam)\n",
    "log_q_words_ham=np.log(q_words_ham)\n",
    "def test_concat(train_data,word_counts):\n",
    "        # Convert `word_counts` dictionary to a DataFrame with the same columns as `test_data`\n",
    "    word_counts_df = pd.DataFrame([word_counts], index=[0])  # Convert dict to single-row DataFrame\n",
    "    # Align columns to avoid misalignment\n",
    "    word_counts_df = word_counts_df.reindex(columns=train_data.columns, fill_value=0)\n",
    "    concat_test_data=pd.concat([train_data,word_counts_df],ignore_index=True)\n",
    "    \n",
    "    concat_test_data.fillna(0,inplace=True)\n",
    "    email_data=concat_test_data\n",
    "    return word_counts_df\n",
    "def predict_email(email_content, prob_spam, prob_ham, log_p_words_spam, log_p_words_ham, log_q_words_spam, log_q_words_ham):\n",
    "    \"\"\"\n",
    "    Predicts if a single email is spam or ham.\n",
    "    \n",
    "    Args:\n",
    "        email_content (str): Content of the email.\n",
    "        \n",
    "    Returns:\n",
    "        int: +1 for spam, 0 for ham.\n",
    "    \"\"\"\n",
    "    word_counts = word_count(split_words(email_content))\n",
    "    p_spam = np.log(prob_spam)\n",
    "    p_ham = np.log(prob_ham)\n",
    "    email_data=test_concat(train_data,word_counts)\n",
    "    for word, count in word_counts.items():\n",
    "        # Check if the word exists in the vocabulary\n",
    "        if word in log_p_words_spam.index:\n",
    "            p_spam += count * log_p_words_spam[word]\n",
    "            p_ham += count * log_p_words_ham[word]\n",
    "        elif word in log_q_words_spam.index:\n",
    "            # For words not present in the email, use log_q probabilities\n",
    "            p_spam += count * log_q_words_spam[word]\n",
    "            p_ham += count * log_q_words_ham[word]\n",
    "        else:\n",
    "            continue\n",
    "    return 1 if p_spam > p_ham else 0\n",
    "\n",
    "\n",
    "def split_words(text):\n",
    "    \"\"\"\n",
    "    Processes text into clean, lowercase words, removing special characters.\n",
    "    \"\"\"\n",
    "    text = text.lower()\n",
    "    for ch in [\",\", \":\", \";\", \"(\", \")\", \"\\\"\", \".\", \"\\\\\", \"/\", \"'\", \"\\n\"]:\n",
    "        text = text.replace(ch, \" \")\n",
    "    return text.split()\n",
    "\n",
    "def word_count(words):\n",
    "    \"\"\"\n",
    "    Generates word count dictionary from list of words.\n",
    "    \"\"\"\n",
    "    word_counts = {}\n",
    "    for word in words:\n",
    "        word_counts[word] = word_counts.get(word, 0) + 1\n",
    "    return word_counts\n",
    "\n",
    "def process_and_predict(folder_path):\n",
    "    \"\"\"\n",
    "    Reads all text files from folder_path, predicts spam or ham, and returns predictions.\n",
    "    \"\"\"\n",
    "    predictions = {}\n",
    "    pred_value=[]\n",
    "    for filename in os.listdir(folder_path):\n",
    "        if filename.endswith(\".txt\"):\n",
    "            with open(os.path.join(folder_path, filename), 'r',encoding='ISO-8859-1', errors='ignore') as file:\n",
    "                email_content = file.read()\n",
    "                prediction = predict_email(email_content, prob_spam, prob_ham, log_p_words_spam, log_p_words_ham, log_q_words_spam, log_q_words_ham)\n",
    "                predictions[filename] = prediction\n",
    "                pred_value.append(prediction)\n",
    "    return predictions, pred_value\n",
    "\n",
    "# Example usage\n",
    "import os\n",
    "\n",
    "# Set the folder path to the current directory\n",
    "folder_path = os.path.join(os.getcwd(), 'test')  # Assuming the folder is named 'test'\n",
    "predictions,pred_value = process_and_predict(folder_path)\n",
    "print(predictions)"
   ]
  },
  {
   "cell_type": "code",
   "execution_count": 3,
   "id": "d9301477",
   "metadata": {},
   "outputs": [],
   "source": [
    "test_email_spam=np.ones(250)\n",
    "test_email_ham=np.zeros(250)\n",
    "test_email_labels=np.concatenate((test_email_ham,test_email_spam,))"
   ]
  },
  {
   "cell_type": "code",
   "execution_count": 4,
   "id": "23032e9e",
   "metadata": {},
   "outputs": [],
   "source": [
    "import matplotlib.pyplot as plt\n",
    "import seaborn as sns"
   ]
  },
  {
   "cell_type": "code",
   "execution_count": 5,
   "id": "1761c0a3",
   "metadata": {},
   "outputs": [
    {
     "name": "stdout",
     "output_type": "stream",
     "text": [
      "[[240  10]\n",
      " [  1 249]]\n",
      "              precision    recall  f1-score   support\n",
      "\n",
      "         0.0       1.00      0.96      0.98       250\n",
      "         1.0       0.96      1.00      0.98       250\n",
      "\n",
      "    accuracy                           0.98       500\n",
      "   macro avg       0.98      0.98      0.98       500\n",
      "weighted avg       0.98      0.98      0.98       500\n",
      "\n"
     ]
    },
    {
     "data": {
      "text/plain": [
       "Text(95.72222222222221, 0.5, 'Truth')"
      ]
     },
     "execution_count": 5,
     "metadata": {},
     "output_type": "execute_result"
    },
    {
     "data": {
      "image/png": "[encoded data removed]",
      "text/plain": [
       "<Figure size 1000x1000 with 2 Axes>"
      ]
     },
     "metadata": {},
     "output_type": "display_data"
    }
   ],
   "source": [
    "from sklearn.metrics import accuracy_score,precision_score,recall_score,f1_score\n",
    "from sklearn.metrics import confusion_matrix,classification_report\n",
    "print(confusion_matrix(test_email_labels,pred_value))\n",
    "print(classification_report(test_email_labels,pred_value))\n",
    "plt.figure(figsize=(10,10))\n",
    "sns.heatmap(confusion_matrix(test_email_labels,pred_value),annot=True,fmt='d',cmap='Blues')\n",
    "plt.title('Confusion Matrix')\n",
    "plt.xlabel('Predicted')\n",
    "plt.ylabel('Truth')"
   ]
  },
  {
   "cell_type": "code",
   "execution_count": null,
   "id": "ecf4c96c",
   "metadata": {},
   "outputs": [],
   "source": []
  },
  {
   "cell_type": "code",
   "execution_count": null,
   "id": "5cdf0fbd",
   "metadata": {},
   "outputs": [],
   "source": []
  }
 ],
 "metadata": {
  "kernelspec": {
   "display_name": "Python 3 (ipykernel)",
   "language": "python",
   "name": "python3"
  },
  "language_info": {
   "codemirror_mode": {
    "name": "ipython",
    "version": 3
   },
   "file_extension": ".py",
   "mimetype": "text/x-python",
   "name": "python",
   "nbconvert_exporter": "python",
   "pygments_lexer": "ipython3",
   "version": "3.11.4"
  }
 },
 "nbformat": 4,
 "nbformat_minor": 5
}
